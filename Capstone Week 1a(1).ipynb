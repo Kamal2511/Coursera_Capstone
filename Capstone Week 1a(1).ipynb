{
 "cells": [
  {
   "cell_type": "markdown",
   "metadata": {},
   "source": [
    "# Part 1: Problem Description"
   ]
  },
  {
   "cell_type": "markdown",
   "metadata": {},
   "source": [
    "### 1.1 Background"
   ]
  },
  {
   "cell_type": "markdown",
   "metadata": {},
   "source": [
    "\n",
    "\n",
    "Foreign investors are looking at various cities in the United States to move and open a restaurant. They are wanting to learn more about prospective cities and in which neighborhoods there is a concentration of restaurants. While they want their new restaurant to be near other popular eating destinations, they also don't want to be crowded in with too many of the same style.\n",
    "\n",
    "Based on input from our customer as to which city they are considering, and what type of restaurant they want to open, this program will gather data from Foursquare, process the information, and return a map, with suggested neighborhoods in the specified city. These neighborhoods will be selected by seeing where there is a high concentration of restaurants, but a lower number of restaurants of the particular style of our investors. This will be useful to our stakeholders as they make their choice of where to move once they come to the country, and maximize their investment once their own restaurant is operational.\n",
    "\n",
    "\n",
    "\n",
    "      "
   ]
  },
  {
   "cell_type": "markdown",
   "metadata": {},
   "source": [
    "### 1.2 Problem"
   ]
  },
  {
   "cell_type": "markdown",
   "metadata": {},
   "source": [
    "We will be building off of our existing code that analyzed the various neighborhoods around Toronto, Canada. As such, we will be using Folium, Foursquare, and all of the other functions we utilized in the week 3 assignment. We will still be using Foursquare location data to find the various venues in all of the different neighborhoods. Through the use of the Geocode function, this code could be applied to any desired city, not just Toronto like in this example. We would also need to gather some basic data from our investors, such as which city they want to build a new restaurant (in this example, Toronto), and what type of restaurant they want to start, (a Chinese restaurant in this example). Our resulting maps will not just be a map of all of the different neighborhoods. It will filter the results to show areas that already attract customers, but do not have many of the style our investors want to open.\n"
   ]
  },
  {
   "cell_type": "markdown",
   "metadata": {},
   "source": [
    "### 1.3 Interest"
   ]
  },
  {
   "cell_type": "markdown",
   "metadata": {},
   "source": [
    "In this study, we were able to look at all neighbourhoods of a city, see what venues are most popular in each. We looked at where restaurants are most likely to be located and see what style is lacking in these areas to be remedied by our investors. Through this, we discovered where potential opportunity lies for investors to come in and build a new shop to serve an under utilized client base. I will attempt to continue to develop the program to expand its capabilities and attempt to find a truly optimized location for a potential new venue."
   ]
  }
 ],
 "metadata": {
  "kernelspec": {
   "display_name": "Python 3",
   "language": "python",
   "name": "python3"
  },
  "language_info": {
   "codemirror_mode": {
    "name": "ipython",
    "version": 3
   },
   "file_extension": ".py",
   "mimetype": "text/x-python",
   "name": "python",
   "nbconvert_exporter": "python",
   "pygments_lexer": "ipython3",
   "version": "3.6.8"
  }
 },
 "nbformat": 4,
 "nbformat_minor": 2
}
